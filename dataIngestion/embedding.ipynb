{
 "cells": [
  {
   "cell_type": "code",
   "execution_count": 16,
   "metadata": {},
   "outputs": [],
   "source": [
    "import os \n",
    "from dotenv import load_dotenv \n",
    "load_dotenv()\n",
    "\n",
    "os.environ[\"LANGCHAIN_API_KEY\"]=os.getenv(\"Langchain_API_KEY\")\n",
    "os.environ[\"LANGCHAIN_TRACING_V2\"]=\"true\"\n",
    "os.environ[\"LANGCHAIN_PROJECT\"]=os.getenv(\"Langchain_Project\")"
   ]
  },
  {
   "cell_type": "code",
   "execution_count": 17,
   "metadata": {},
   "outputs": [
    {
     "data": {
      "text/plain": [
       "[Document(metadata={'producer': 'www.ilovepdf.com', 'creator': 'Microsoft® Word 2016', 'creationdate': '2025-02-10T20:49:28+00:00', 'author': 'TUPAKULA PHANI', 'moddate': '2025-02-10T20:49:29+00:00', 'source': 'Resume_.pdf', 'total_pages': 1, 'page': 0, 'page_label': '1'}, page_content='PHANINDRA TUPAKULA \\n(240)-355-4770 | https://www.linkedin.com/in/phanindratupakula|ptupakul@terpmail.umd.edu|https://github.com/phani-tmp \\nEDUCATION \\nUniversity of Maryland College Park        Aug 2024 – May 2026 \\nMaster of Science Applied Machine Learning \\nNational Institute of Technology Jamshedpur       Sep 2020 – May 2024 \\nBachelor of Science Computer Science and Engineering \\nSKILLS \\nProgramming Languages: Python, Java, C , JavaScript, HTML, CSS, ReactJS, NodeJS, Springboot \\nMachine Learning and Data Science Frameworks: Scikit-learn, TensorFlow, Keras, PyTorch, NLTK, OpenCV \\nData Analysis and Visualization: Matplotlib, Seaborn, Microsoft Excel, Power BI, Exploratory Data Analysis(EDA), StatsModels \\nDatabase Technologies: SQL, MongoDB \\nSoftware Development and Version Control: Git, GitHub, CI/CD Pipelines \\nDevOps and Deployment Tools: Docker, Kubernetes, AWS \\nExperience \\nResearch Assistant                         Jan 2025 – Present \\nUMD \\n• Designing a 3D virtual try-on application using computer vision and generative AI to eliminate the need for \\nphysical dressing rooms, reducing time-to-purchase by 40% in simulated environments. \\nQuantitative Trading Analyst         Jan 2024 – Jul 2024 \\nFutures First \\n• Developed and deployed ARIMA and SARIMA models for time series forecasting in financial trading, optimizing risk-\\nadjusted returns by 20%. \\n• Formulated a robust Shanghai crude trading strategy using the Vector Autoregression Model (VAR), achieving a 75% \\nsuccess rate during the testing phases. \\n• Built a dynamic web application with node.js as backend to assess market data seasonality, enhancing financial \\nmarket insights by 25% through data-driven visualizations. \\n• Developed and optimized portfolio construction models using Efficient Frontier theory, improving investment \\nallocation efficiency by 15%. \\nMachine Learning Intern          May 2023 – Jul 2023 \\nCritical River INC \\n• Engineered an ML-powered signature verification system for a banking client, leveraging CNNs and custom features \\nlike pressure points to enhance fraud detection. Annotated cheque images to extract signature boxes for model \\ntraining, improving signature validation accuracy by 9%. \\n• Developed a Retrieval-Augmented Generation (RAG)-based NLP chatbot using vector search and Transformer-based \\nembeddings, enhancing query accuracy for mechanical troubleshooting. \\n• Utilized NLP techniques for text extraction, preprocessing, and entity recognition, improving OCR-based document \\nprocessing for financial applications, including signature verification and fraud detection. \\nTeaching Assistant           Apr 2022 – May 2023 \\nNXT Wave \\n• Mentored 70 students in programming and web development, resulting in a 40% increase in their technical \\nproficiency. \\n• Facilitated learning sessions, solving 90% of technical issues within the first 10 minutes and significantly boosting \\nclassroom efficiency. \\nProjects \\nCode Companion – AI-Powered Coding Assistant \\n\\uf0b7 Designed and developed a Spring Boot & React.js platform where LLMs generate dynamic, personalized coding hints \\nbased on users’ solutions. Implemented GPT API with fine-tuning for adaptive, level-wise guidance. Built a robust \\nbackend to manage APIs, user interactions, and question storage, enabling real-time, context-aware assistance and \\ninteractive Q&A during coding. \\nSkin Cancer Detection (Published) \\n\\uf0b7 Published a research paper on skin cancer detection, leveraging deep learning custom CNN architecture for accurate \\nimage classification. Applied SMOTE for class balancing and data augmentation, achieving a 15% increase in classification \\naccuracy. Optimized training with early stopping and learning rate scheduling, leading to a final F1-score of 92% on \\nbenchmark datasets.')]"
      ]
     },
     "execution_count": 17,
     "metadata": {},
     "output_type": "execute_result"
    }
   ],
   "source": [
    "from langchain_text_splitters import RecursiveCharacterTextSplitter \n",
    "from langchain_community.document_loaders import PyPDFLoader\n",
    "\n",
    "loader = PyPDFLoader(\"Resume_.pdf\")\n",
    "docs=loader.load()\n",
    "docs"
   ]
  },
  {
   "cell_type": "code",
   "execution_count": 15,
   "metadata": {},
   "outputs": [
    {
     "name": "stdout",
     "output_type": "stream",
     "text": [
      "c:\\LangChain\\venv\\python.exe\n"
     ]
    }
   ],
   "source": [
    "import sys\n",
    "print(sys.executable)\n"
   ]
  },
  {
   "cell_type": "code",
   "execution_count": 12,
   "metadata": {},
   "outputs": [
    {
     "name": "stdout",
     "output_type": "stream",
     "text": [
      "page_content='PHANINDRA TUPAKULA \n",
      "(240)-355-4770 | https://www.linkedin.com/in/phanindratupakula|ptupakul@terpmail.umd.edu|https://github.com/phani-tmp \n",
      "EDUCATION \n",
      "University of Maryland College Park        Aug 2024 – May 2026 \n",
      "Master of Science Applied Machine Learning \n",
      "National Institute of Technology Jamshedpur       Sep 2020 – May 2024 \n",
      "Bachelor of Science Computer Science and Engineering \n",
      "SKILLS \n",
      "Programming Languages: Python, Java, C , JavaScript, HTML, CSS, ReactJS, NodeJS, Springboot \n",
      "Machine Learning and Data Science Frameworks: Scikit-learn, TensorFlow, Keras, PyTorch, NLTK, OpenCV \n",
      "Data Analysis and Visualization: Matplotlib, Seaborn, Microsoft Excel, Power BI, Exploratory Data Analysis(EDA), StatsModels \n",
      "Database Technologies: SQL, MongoDB \n",
      "Software Development and Version Control: Git, GitHub, CI/CD Pipelines \n",
      "DevOps and Deployment Tools: Docker, Kubernetes, AWS \n",
      "Experience \n",
      "Research Assistant                         Jan 2025 – Present \n",
      "UMD' metadata={'producer': 'www.ilovepdf.com', 'creator': 'Microsoft® Word 2016', 'creationdate': '2025-02-10T20:49:28+00:00', 'author': 'TUPAKULA PHANI', 'moddate': '2025-02-10T20:49:29+00:00', 'source': 'Resume_.pdf', 'total_pages': 1, 'page': 0, 'page_label': '1'}\n",
      "--------------------------------------------\n",
      "page_content='UMD \n",
      "• Designing a 3D virtual try-on application using computer vision and generative AI to eliminate the need for \n",
      "physical dressing rooms, reducing time-to-purchase by 40% in simulated environments. \n",
      "Quantitative Trading Analyst         Jan 2024 – Jul 2024 \n",
      "Futures First \n",
      "• Developed and deployed ARIMA and SARIMA models for time series forecasting in financial trading, optimizing risk-\n",
      "adjusted returns by 20%. \n",
      "• Formulated a robust Shanghai crude trading strategy using the Vector Autoregression Model (VAR), achieving a 75% \n",
      "success rate during the testing phases. \n",
      "• Built a dynamic web application with node.js as backend to assess market data seasonality, enhancing financial \n",
      "market insights by 25% through data-driven visualizations. \n",
      "• Developed and optimized portfolio construction models using Efficient Frontier theory, improving investment \n",
      "allocation efficiency by 15%. \n",
      "Machine Learning Intern          May 2023 – Jul 2023 \n",
      "Critical River INC' metadata={'producer': 'www.ilovepdf.com', 'creator': 'Microsoft® Word 2016', 'creationdate': '2025-02-10T20:49:28+00:00', 'author': 'TUPAKULA PHANI', 'moddate': '2025-02-10T20:49:29+00:00', 'source': 'Resume_.pdf', 'total_pages': 1, 'page': 0, 'page_label': '1'}\n"
     ]
    }
   ],
   "source": [
    "text_splitter = RecursiveCharacterTextSplitter(\n",
    "    # Set a really small chunk size, just to show.\n",
    "    chunk_size=1000,\n",
    "    chunk_overlap=20,\n",
    "    length_function=len,\n",
    "    is_separator_regex=False,separators=[\n",
    "        \"\\n\\n\",\n",
    "        \"\\n\",\n",
    "        \" \",\n",
    "        \".\",\n",
    "        \",\",\n",
    "        \"\\u200b\",  # Zero-width space\n",
    "        \"\\uff0c\",  # Fullwidth comma\n",
    "        \"\\u3001\",  # Ideographic comma\n",
    "        \"\\uff0e\",  # Fullwidth full stop\n",
    "        \"\\u3002\",  # Ideographic full stop\n",
    "        \"\",\n",
    "    ],\n",
    ")\n",
    "texts = text_splitter.split_documents(docs)\n",
    "print(texts[0])\n",
    "print(\"--------------------------------------------\")\n",
    "print(texts[1])"
   ]
  },
  {
   "cell_type": "code",
   "execution_count": 9,
   "metadata": {},
   "outputs": [
    {
     "ename": "NameError",
     "evalue": "name 'texts' is not defined",
     "output_type": "error",
     "traceback": [
      "\u001b[1;31m---------------------------------------------------------------------------\u001b[0m",
      "\u001b[1;31mNameError\u001b[0m                                 Traceback (most recent call last)",
      "Cell \u001b[1;32mIn[9], line 1\u001b[0m\n\u001b[1;32m----> 1\u001b[0m \u001b[43mtexts\u001b[49m\n",
      "\u001b[1;31mNameError\u001b[0m: name 'texts' is not defined"
     ]
    }
   ],
   "source": [
    "texts"
   ]
  },
  {
   "cell_type": "code",
   "execution_count": 5,
   "metadata": {},
   "outputs": [
    {
     "data": {
      "text/plain": [
       "langchain_core.documents.base.Document"
      ]
     },
     "execution_count": 5,
     "metadata": {},
     "output_type": "execute_result"
    }
   ],
   "source": [
    "type(docs[0])"
   ]
  },
  {
   "cell_type": "code",
   "execution_count": 6,
   "metadata": {},
   "outputs": [],
   "source": [
    "from langchain_ollama import OllamaEmbeddings\n",
    "\n",
    "embeddings = OllamaEmbeddings(model=\"deepseek-r1\")"
   ]
  },
  {
   "cell_type": "code",
   "execution_count": 7,
   "metadata": {},
   "outputs": [
    {
     "data": {
      "text/plain": [
       "<langchain_community.vectorstores.faiss.FAISS at 0x1d9f23258d0>"
      ]
     },
     "execution_count": 7,
     "metadata": {},
     "output_type": "execute_result"
    }
   ],
   "source": [
    "from langchain_community.vectorstores import FAISS\n",
    "\n",
    "db = FAISS.from_documents(texts, embeddings)\n",
    "db"
   ]
  },
  {
   "cell_type": "code",
   "execution_count": 8,
   "metadata": {},
   "outputs": [
    {
     "data": {
      "text/plain": [
       "[Document(id='83142769-f4eb-44ad-915c-789514509364', metadata={'producer': 'www.ilovepdf.com', 'creator': 'Microsoft® Word 2016', 'creationdate': '2025-02-10T20:49:28+00:00', 'author': 'TUPAKULA PHANI', 'moddate': '2025-02-10T20:49:29+00:00', 'source': 'Resume_.pdf', 'total_pages': 1, 'page': 0, 'page_label': '1'}, page_content='classroom efficiency. \\nProjects \\nCode Companion – AI-Powered Coding Assistant \\n\\uf0b7 Designed and developed a Spring Boot & React.js platform where LLMs generate dynamic, personalized coding hints \\nbased on users’ solutions. Implemented GPT API with fine-tuning for adaptive, level-wise guidance. Built a robust \\nbackend to manage APIs, user interactions, and question storage, enabling real-time, context-aware assistance and \\ninteractive Q&A during coding. \\nSkin Cancer Detection (Published) \\n\\uf0b7 Published a research paper on skin cancer detection, leveraging deep learning custom CNN architecture for accurate \\nimage classification. Applied SMOTE for class balancing and data augmentation, achieving a 15% increase in classification \\naccuracy. Optimized training with early stopping and learning rate scheduling, leading to a final F1-score of 92% on \\nbenchmark datasets.'),\n",
       " Document(id='26e82806-5439-4869-a417-a7f50e533f25', metadata={'producer': 'www.ilovepdf.com', 'creator': 'Microsoft® Word 2016', 'creationdate': '2025-02-10T20:49:28+00:00', 'author': 'TUPAKULA PHANI', 'moddate': '2025-02-10T20:49:29+00:00', 'source': 'Resume_.pdf', 'total_pages': 1, 'page': 0, 'page_label': '1'}, page_content='UMD \\n• Designing a 3D virtual try-on application using computer vision and generative AI to eliminate the need for \\nphysical dressing rooms, reducing time-to-purchase by 40% in simulated environments. \\nQuantitative Trading Analyst         Jan 2024 – Jul 2024 \\nFutures First \\n• Developed and deployed ARIMA and SARIMA models for time series forecasting in financial trading, optimizing risk-\\nadjusted returns by 20%. \\n• Formulated a robust Shanghai crude trading strategy using the Vector Autoregression Model (VAR), achieving a 75% \\nsuccess rate during the testing phases. \\n• Built a dynamic web application with node.js as backend to assess market data seasonality, enhancing financial \\nmarket insights by 25% through data-driven visualizations. \\n• Developed and optimized portfolio construction models using Efficient Frontier theory, improving investment \\nallocation efficiency by 15%. \\nMachine Learning Intern          May 2023 – Jul 2023 \\nCritical River INC'),\n",
       " Document(id='3304b11f-312b-4985-9810-cfdd89eee7ce', metadata={'producer': 'www.ilovepdf.com', 'creator': 'Microsoft® Word 2016', 'creationdate': '2025-02-10T20:49:28+00:00', 'author': 'TUPAKULA PHANI', 'moddate': '2025-02-10T20:49:29+00:00', 'source': 'Resume_.pdf', 'total_pages': 1, 'page': 0, 'page_label': '1'}, page_content='Critical River INC \\n• Engineered an ML-powered signature verification system for a banking client, leveraging CNNs and custom features \\nlike pressure points to enhance fraud detection. Annotated cheque images to extract signature boxes for model \\ntraining, improving signature validation accuracy by 9%. \\n• Developed a Retrieval-Augmented Generation (RAG)-based NLP chatbot using vector search and Transformer-based \\nembeddings, enhancing query accuracy for mechanical troubleshooting. \\n• Utilized NLP techniques for text extraction, preprocessing, and entity recognition, improving OCR-based document \\nprocessing for financial applications, including signature verification and fraud detection. \\nTeaching Assistant           Apr 2022 – May 2023 \\nNXT Wave \\n• Mentored 70 students in programming and web development, resulting in a 40% increase in their technical \\nproficiency. \\n• Facilitated learning sessions, solving 90% of technical issues within the first 10 minutes and significantly boosting'),\n",
       " Document(id='4824d7b3-615b-49ec-9037-e672795bbc54', metadata={'producer': 'www.ilovepdf.com', 'creator': 'Microsoft® Word 2016', 'creationdate': '2025-02-10T20:49:28+00:00', 'author': 'TUPAKULA PHANI', 'moddate': '2025-02-10T20:49:29+00:00', 'source': 'Resume_.pdf', 'total_pages': 1, 'page': 0, 'page_label': '1'}, page_content='PHANINDRA TUPAKULA \\n(240)-355-4770 | https://www.linkedin.com/in/phanindratupakula|ptupakul@terpmail.umd.edu|https://github.com/phani-tmp \\nEDUCATION \\nUniversity of Maryland College Park        Aug 2024 – May 2026 \\nMaster of Science Applied Machine Learning \\nNational Institute of Technology Jamshedpur       Sep 2020 – May 2024 \\nBachelor of Science Computer Science and Engineering \\nSKILLS \\nProgramming Languages: Python, Java, C , JavaScript, HTML, CSS, ReactJS, NodeJS, Springboot \\nMachine Learning and Data Science Frameworks: Scikit-learn, TensorFlow, Keras, PyTorch, NLTK, OpenCV \\nData Analysis and Visualization: Matplotlib, Seaborn, Microsoft Excel, Power BI, Exploratory Data Analysis(EDA), StatsModels \\nDatabase Technologies: SQL, MongoDB \\nSoftware Development and Version Control: Git, GitHub, CI/CD Pipelines \\nDevOps and Deployment Tools: Docker, Kubernetes, AWS \\nExperience \\nResearch Assistant                         Jan 2025 – Present \\nUMD')]"
      ]
     },
     "execution_count": 8,
     "metadata": {},
     "output_type": "execute_result"
    }
   ],
   "source": [
    "query=\"Phanindra Email Id?\"\n",
    "docs=db.similarity_search(query)\n",
    "docs"
   ]
  },
  {
   "cell_type": "code",
   "execution_count": 9,
   "metadata": {},
   "outputs": [
    {
     "data": {
      "text/plain": [
       "[Document(id='83142769-f4eb-44ad-915c-789514509364', metadata={'producer': 'www.ilovepdf.com', 'creator': 'Microsoft® Word 2016', 'creationdate': '2025-02-10T20:49:28+00:00', 'author': 'TUPAKULA PHANI', 'moddate': '2025-02-10T20:49:29+00:00', 'source': 'Resume_.pdf', 'total_pages': 1, 'page': 0, 'page_label': '1'}, page_content='classroom efficiency. \\nProjects \\nCode Companion – AI-Powered Coding Assistant \\n\\uf0b7 Designed and developed a Spring Boot & React.js platform where LLMs generate dynamic, personalized coding hints \\nbased on users’ solutions. Implemented GPT API with fine-tuning for adaptive, level-wise guidance. Built a robust \\nbackend to manage APIs, user interactions, and question storage, enabling real-time, context-aware assistance and \\ninteractive Q&A during coding. \\nSkin Cancer Detection (Published) \\n\\uf0b7 Published a research paper on skin cancer detection, leveraging deep learning custom CNN architecture for accurate \\nimage classification. Applied SMOTE for class balancing and data augmentation, achieving a 15% increase in classification \\naccuracy. Optimized training with early stopping and learning rate scheduling, leading to a final F1-score of 92% on \\nbenchmark datasets.'),\n",
       " Document(id='26e82806-5439-4869-a417-a7f50e533f25', metadata={'producer': 'www.ilovepdf.com', 'creator': 'Microsoft® Word 2016', 'creationdate': '2025-02-10T20:49:28+00:00', 'author': 'TUPAKULA PHANI', 'moddate': '2025-02-10T20:49:29+00:00', 'source': 'Resume_.pdf', 'total_pages': 1, 'page': 0, 'page_label': '1'}, page_content='UMD \\n• Designing a 3D virtual try-on application using computer vision and generative AI to eliminate the need for \\nphysical dressing rooms, reducing time-to-purchase by 40% in simulated environments. \\nQuantitative Trading Analyst         Jan 2024 – Jul 2024 \\nFutures First \\n• Developed and deployed ARIMA and SARIMA models for time series forecasting in financial trading, optimizing risk-\\nadjusted returns by 20%. \\n• Formulated a robust Shanghai crude trading strategy using the Vector Autoregression Model (VAR), achieving a 75% \\nsuccess rate during the testing phases. \\n• Built a dynamic web application with node.js as backend to assess market data seasonality, enhancing financial \\nmarket insights by 25% through data-driven visualizations. \\n• Developed and optimized portfolio construction models using Efficient Frontier theory, improving investment \\nallocation efficiency by 15%. \\nMachine Learning Intern          May 2023 – Jul 2023 \\nCritical River INC'),\n",
       " Document(id='3304b11f-312b-4985-9810-cfdd89eee7ce', metadata={'producer': 'www.ilovepdf.com', 'creator': 'Microsoft® Word 2016', 'creationdate': '2025-02-10T20:49:28+00:00', 'author': 'TUPAKULA PHANI', 'moddate': '2025-02-10T20:49:29+00:00', 'source': 'Resume_.pdf', 'total_pages': 1, 'page': 0, 'page_label': '1'}, page_content='Critical River INC \\n• Engineered an ML-powered signature verification system for a banking client, leveraging CNNs and custom features \\nlike pressure points to enhance fraud detection. Annotated cheque images to extract signature boxes for model \\ntraining, improving signature validation accuracy by 9%. \\n• Developed a Retrieval-Augmented Generation (RAG)-based NLP chatbot using vector search and Transformer-based \\nembeddings, enhancing query accuracy for mechanical troubleshooting. \\n• Utilized NLP techniques for text extraction, preprocessing, and entity recognition, improving OCR-based document \\nprocessing for financial applications, including signature verification and fraud detection. \\nTeaching Assistant           Apr 2022 – May 2023 \\nNXT Wave \\n• Mentored 70 students in programming and web development, resulting in a 40% increase in their technical \\nproficiency. \\n• Facilitated learning sessions, solving 90% of technical issues within the first 10 minutes and significantly boosting'),\n",
       " Document(id='4824d7b3-615b-49ec-9037-e672795bbc54', metadata={'producer': 'www.ilovepdf.com', 'creator': 'Microsoft® Word 2016', 'creationdate': '2025-02-10T20:49:28+00:00', 'author': 'TUPAKULA PHANI', 'moddate': '2025-02-10T20:49:29+00:00', 'source': 'Resume_.pdf', 'total_pages': 1, 'page': 0, 'page_label': '1'}, page_content='PHANINDRA TUPAKULA \\n(240)-355-4770 | https://www.linkedin.com/in/phanindratupakula|ptupakul@terpmail.umd.edu|https://github.com/phani-tmp \\nEDUCATION \\nUniversity of Maryland College Park        Aug 2024 – May 2026 \\nMaster of Science Applied Machine Learning \\nNational Institute of Technology Jamshedpur       Sep 2020 – May 2024 \\nBachelor of Science Computer Science and Engineering \\nSKILLS \\nProgramming Languages: Python, Java, C , JavaScript, HTML, CSS, ReactJS, NodeJS, Springboot \\nMachine Learning and Data Science Frameworks: Scikit-learn, TensorFlow, Keras, PyTorch, NLTK, OpenCV \\nData Analysis and Visualization: Matplotlib, Seaborn, Microsoft Excel, Power BI, Exploratory Data Analysis(EDA), StatsModels \\nDatabase Technologies: SQL, MongoDB \\nSoftware Development and Version Control: Git, GitHub, CI/CD Pipelines \\nDevOps and Deployment Tools: Docker, Kubernetes, AWS \\nExperience \\nResearch Assistant                         Jan 2025 – Present \\nUMD')]"
      ]
     },
     "execution_count": 9,
     "metadata": {},
     "output_type": "execute_result"
    }
   ],
   "source": [
    "retriever=db.as_retriever()\n",
    "docs=retriever.invoke(query) \n",
    "docs"
   ]
  },
  {
   "cell_type": "code",
   "execution_count": 10,
   "metadata": {},
   "outputs": [
    {
     "name": "stdout",
     "output_type": "stream",
     "text": [
      "\u001b[1mOllama\u001b[0m\n",
      "Params: {'model': 'deepseek-r1', 'format': None, 'options': {'mirostat': None, 'mirostat_eta': None, 'mirostat_tau': None, 'num_ctx': None, 'num_gpu': None, 'num_thread': None, 'num_predict': None, 'repeat_last_n': None, 'repeat_penalty': None, 'temperature': None, 'stop': None, 'tfs_z': None, 'top_k': None, 'top_p': None}, 'system': None, 'template': None, 'keep_alive': None, 'raw': None}\n"
     ]
    },
    {
     "name": "stderr",
     "output_type": "stream",
     "text": [
      "C:\\Users\\siri1\\AppData\\Local\\Temp\\ipykernel_23932\\2851223463.py:3: LangChainDeprecationWarning: The class `Ollama` was deprecated in LangChain 0.3.1 and will be removed in 1.0.0. An updated version of the class exists in the :class:`~langchain-ollama package and should be used instead. To use it run `pip install -U :class:`~langchain-ollama` and import as `from :class:`~langchain_ollama import OllamaLLM``.\n",
      "  llm = Ollama(model=\"deepseek-r1\")\n"
     ]
    }
   ],
   "source": [
    "from langchain_community.llms import Ollama  \n",
    "\n",
    "llm = Ollama(model=\"deepseek-r1\")  \n",
    "print(llm)\n"
   ]
  },
  {
   "cell_type": "code",
   "execution_count": 11,
   "metadata": {},
   "outputs": [
    {
     "data": {
      "text/plain": [
       "\"<think>\\n\\n</think>\\n\\nVirat Kohli is an Indian cricketer who currently holds the record for the most runs in Test cricket by a male player, scoring 10,745 runs as of January 2023. He also has the most Test centuries (68) and remains unbeaten at number five in the International Cricket Council (ICC) rankings, which he first achieved in 2016.\\n\\nKohli is a versatile cricketer who can play all three positions: batsman, bowler, and wicketkeeper. He has played for several Indian teams, including the Mumbai Indians (now Royal Challengers Bangalore) in the Indian Premier League (IPL). Kohli's performances have been instrumental in India's success at the ICC World Cup in 2013, 2015, and 2019.\\n\\nHe was born on November 18, 1987, in Mohali, Punjab. Kohli has received numerous awards and recognitions for his performance, including the RCB Player of the Year award multiple times.\""
      ]
     },
     "execution_count": 11,
     "metadata": {},
     "output_type": "execute_result"
    }
   ],
   "source": [
    "llm.invoke(\"Who is Virat Kohli\")"
   ]
  },
  {
   "cell_type": "code",
   "execution_count": 12,
   "metadata": {},
   "outputs": [],
   "source": [
    "from langchain.prompts import ChatPromptTemplate  \n",
    "\n",
    "prompt = ChatPromptTemplate.from_messages([\n",
    "    (\"system\", \"\"\"You are an expert career coach with a deep understanding of quantitative finance, AI, and technology roles. \n",
    "    Your goal is to analyze the provided resume and guide the user through the job application process. Provide:\n",
    "    - Feedback on missing skills or experience.\n",
    "    - Suggestions for relevant job roles.\n",
    "    - Improvements for resume formatting and wording.\n",
    "    - Personalized project recommendations to strengthen the resume.\n",
    "    - Insights on industry trends and what recruiters look for.\n",
    "    - Guidance on how to approach cover letters and networking.\"\"\"),\n",
    "    \n",
    "    (\"human\", \"{resume_text}\")\n",
    "])\n"
   ]
  },
  {
   "cell_type": "code",
   "execution_count": 13,
   "metadata": {},
   "outputs": [
    {
     "name": "stdout",
     "output_type": "stream",
     "text": [
      "<think>\n",
      "Okay, so I just received a message from someone asking about their resume. They wrote \"Hey how should our resume looks like\". Hmm, that's pretty vague. I need to figure out what they really mean.\n",
      "\n",
      "First, I'll consider the context. The user is probably applying for jobs in quantitative finance, AI, or tech. They might be new to this field and unsure about their resume structure. Without specific details about their current skills or experience, it's hard to give tailored advice.\n",
      "\n",
      "I should respond by asking them to provide more information. That way, I can assess their background better. What kind of job are they targeting? Are they looking for entry-level roles or mid-level positions? Do they have any relevant experience already?\n",
      "\n",
      "Maybe they're not sure where to start structuring their resume either. A typical resume should include sections like Objective, Professional Summary, Education, Experience, Skills, Certifications, Projects, and References. But without knowing what they have, I can't apply this structure effectively.\n",
      "\n",
      "I also need to consider that the user might be overwhelmed by all the information on resumes and job applications. They could be looking for a more organized way to present their skills and experiences in a way that's appealing to potential employers.\n",
      "\n",
      "Perhaps they're interested in understanding how to highlight their strengths, especially if they don't have a lot of experience yet. Or maybe they're confused about which sections to include or exclude.\n",
      "\n",
      "I should also think about the possibility that they might not be aware of some common mistakes in resumes for these fields. For example, having too many bullet points without clear structure or missing out on relevant keywords from job postings.\n",
      "\n",
      "Maybe I can suggest some questions they can ask themselves to better understand their situation. Like, what are my core competencies? What skills are listed in the job descriptions? Do I have any of those?\n",
      "\n",
      "I also wonder if they've considered using a template or example resume that's tailored for quantitative finance roles. That could give them a clearer idea of how to structure and present their information.\n",
      "\n",
      "Overall, without more details, it's best to prompt them to provide specifics so I can offer actionable advice. Whether it's their current job role, the type of position they're targeting, or any relevant work experience, this information will help me guide them effectively.\n",
      "</think>\n",
      "\n",
      "It seems like you might be asking for guidance on how your resume should look. Since you haven't provided specific details about your background or the roles you're interested in, I'll ask a few clarifying questions to better understand your situation and provide tailored advice.\n",
      "\n",
      "Here are some questions to help me get a clearer picture:\n",
      "\n",
      "1. **What type of job are you targeting?** (e.g., quantitative finance analyst, AI developer, tech position)\n",
      "2. **What is your current level of experience?** (e.g., entry-level, mid-level, senior role)\n",
      "3. **Do you have any relevant work experience or education that you'd like to highlight?**\n",
      "4. **Are there specific skills or certifications that are important for the roles you're considering?**\n",
      "5. **What industries or companies are you interested in applying to?**\n",
      "\n",
      "Once I have more information, I can provide detailed feedback on your resume structure, suggest relevant job roles, and offer recommendations for improvement.\n"
     ]
    }
   ],
   "source": [
    "chain=prompt | llm \n",
    "response=chain.invoke({\"human\",\"Hey how should our resume looks like \"})\n",
    "print(response)"
   ]
  },
  {
   "cell_type": "code",
   "execution_count": 1,
   "metadata": {},
   "outputs": [
    {
     "ename": "NameError",
     "evalue": "name 'prompt' is not defined",
     "output_type": "error",
     "traceback": [
      "\u001b[1;31m---------------------------------------------------------------------------\u001b[0m",
      "\u001b[1;31mNameError\u001b[0m                                 Traceback (most recent call last)",
      "Cell \u001b[1;32mIn[1], line 3\u001b[0m\n\u001b[0;32m      1\u001b[0m \u001b[38;5;28;01mfrom\u001b[39;00m\u001b[38;5;250m \u001b[39m\u001b[38;5;21;01mlangchain_core\u001b[39;00m\u001b[38;5;21;01m.\u001b[39;00m\u001b[38;5;21;01moutput_parsers\u001b[39;00m\u001b[38;5;250m \u001b[39m\u001b[38;5;28;01mimport\u001b[39;00m StrOutputParser \n\u001b[0;32m      2\u001b[0m output_parse\u001b[38;5;241m=\u001b[39mStrOutputParser\n\u001b[1;32m----> 3\u001b[0m chain\u001b[38;5;241m=\u001b[39m\u001b[43mprompt\u001b[49m\u001b[38;5;241m|\u001b[39mllm\u001b[38;5;241m|\u001b[39moutput_parse\n\u001b[0;32m      4\u001b[0m response\u001b[38;5;241m=\u001b[39mchain\u001b[38;5;241m.\u001b[39minvoke({\u001b[38;5;124m\"\u001b[39m\u001b[38;5;124mhuman\u001b[39m\u001b[38;5;124m\"\u001b[39m,\u001b[38;5;124m\"\u001b[39m\u001b[38;5;124mHey how should our resume looks like \u001b[39m\u001b[38;5;124m\"\u001b[39m})\n",
      "\u001b[1;31mNameError\u001b[0m: name 'prompt' is not defined"
     ]
    }
   ],
   "source": [
    "from langchain_core.output_parsers import StrOutputParser \n",
    "output_parse=StrOutputParser\n",
    "chain=prompt|llm|output_parse\n",
    "response=chain.invoke({\"human\",\"Hey how should our resume looks like \"})\n"
   ]
  }
 ],
 "metadata": {
  "kernelspec": {
   "display_name": "Python 3",
   "language": "python",
   "name": "python3"
  },
  "language_info": {
   "codemirror_mode": {
    "name": "ipython",
    "version": 3
   },
   "file_extension": ".py",
   "mimetype": "text/x-python",
   "name": "python",
   "nbconvert_exporter": "python",
   "pygments_lexer": "ipython3",
   "version": "3.10.0"
  }
 },
 "nbformat": 4,
 "nbformat_minor": 2
}
